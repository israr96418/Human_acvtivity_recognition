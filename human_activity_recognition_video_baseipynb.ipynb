{
  "cells": [
    {
      "cell_type": "markdown",
      "metadata": {
        "id": "view-in-github",
        "colab_type": "text"
      },
      "source": [
        "<a href=\"https://colab.research.google.com/github/israr96418/Human_acvtivity_recognition/blob/main/human_activity_recognition_video_baseipynb.ipynb\" target=\"_parent\"><img src=\"https://colab.research.google.com/assets/colab-badge.svg\" alt=\"Open In Colab\"/></a>"
      ]
    },
    {
      "cell_type": "code",
      "execution_count": 2,
      "metadata": {
        "colab": {
          "base_uri": "https://localhost:8080/"
        },
        "id": "kBF7EVCM3k5G",
        "outputId": "b09a6107-7ed3-4c7a-d13b-9ebb48eae4d1"
      },
      "outputs": [
        {
          "output_type": "stream",
          "name": "stdout",
          "text": [
            "Looking in indexes: https://pypi.org/simple, https://us-python.pkg.dev/colab-wheels/public/simple/\n",
            "Collecting pafy\n",
            "  Downloading pafy-0.5.5-py2.py3-none-any.whl (35 kB)\n",
            "Installing collected packages: pafy\n",
            "Successfully installed pafy-0.5.5\n",
            "Looking in indexes: https://pypi.org/simple, https://us-python.pkg.dev/colab-wheels/public/simple/\n",
            "Collecting youtube-dl\n",
            "  Downloading youtube_dl-2021.12.17-py2.py3-none-any.whl (1.9 MB)\n",
            "\u001b[K     |████████████████████████████████| 1.9 MB 35.5 MB/s \n",
            "\u001b[?25hRequirement already satisfied: moviepy in /usr/local/lib/python3.8/dist-packages (0.2.3.5)\n",
            "Requirement already satisfied: decorator<5.0,>=4.0.2 in /usr/local/lib/python3.8/dist-packages (from moviepy) (4.4.2)\n",
            "Requirement already satisfied: numpy in /usr/local/lib/python3.8/dist-packages (from moviepy) (1.21.6)\n",
            "Requirement already satisfied: imageio<3.0,>=2.1.2 in /usr/local/lib/python3.8/dist-packages (from moviepy) (2.9.0)\n",
            "Requirement already satisfied: tqdm<5.0,>=4.11.2 in /usr/local/lib/python3.8/dist-packages (from moviepy) (4.64.1)\n",
            "Requirement already satisfied: pillow in /usr/local/lib/python3.8/dist-packages (from imageio<3.0,>=2.1.2->moviepy) (7.1.2)\n",
            "Installing collected packages: youtube-dl\n",
            "Successfully installed youtube-dl-2021.12.17\n",
            "Looking in indexes: https://pypi.org/simple, https://us-python.pkg.dev/colab-wheels/public/simple/\n",
            "Collecting imageio-ffmpeg\n",
            "  Downloading imageio_ffmpeg-0.4.7-py3-none-manylinux2010_x86_64.whl (26.9 MB)\n",
            "\u001b[K     |████████████████████████████████| 26.9 MB 1.3 MB/s \n",
            "\u001b[?25hInstalling collected packages: imageio-ffmpeg\n",
            "Successfully installed imageio-ffmpeg-0.4.7\n",
            "Looking in indexes: https://pypi.org/simple, https://us-python.pkg.dev/colab-wheels/public/simple/\n",
            "Collecting pafy\n",
            "  Cloning https://github.com/TahaAnwar/pafy.git to /tmp/pip-install-w74s4awo/pafy_70b52ae28ebd4d5ab73a761ed434cd1a\n",
            "  Running command git clone -q https://github.com/TahaAnwar/pafy.git /tmp/pip-install-w74s4awo/pafy_70b52ae28ebd4d5ab73a761ed434cd1a\n"
          ]
        }
      ],
      "source": [
        "# import Required library for my model\n",
        "!pip install pafy\n",
        "!pip install youtube-dl moviepy\n",
        "!pip install imageio-ffmpeg\n",
        "!pip install git+https://github.com/TahaAnwar/pafy.git#egg=pafy\n",
        "\n",
        "\n",
        "\n"
      ]
    },
    {
      "cell_type": "code",
      "execution_count": null,
      "metadata": {
        "colab": {
          "base_uri": "https://localhost:8080/"
        },
        "id": "m2CG1oVAUI5V",
        "outputId": "e7771bcf-0786-4d22-a756-c81dd80f77c8"
      },
      "outputs": [
        {
          "name": "stdout",
          "output_type": "stream",
          "text": [
            "Mounted at /content/drive\n"
          ]
        }
      ],
      "source": [
        "from google.colab import drive\n",
        "drive.mount('/content/drive')"
      ]
    },
    {
      "cell_type": "code",
      "execution_count": 58,
      "metadata": {
        "id": "UPAWG19RB27-"
      },
      "outputs": [],
      "source": [
        "\n",
        "import os\n",
        "import numpy as np\n",
        "import tensorflow as tf\n",
        "import cv2\n",
        "import math\n",
        "import matplotlib.pyplot as plt\n",
        "%matplotlib inline\n",
        "# pafy---> is python library to download youtube content and retrieve metatdata\n",
        "import pafy\n",
        "import datetime as dt\n",
        "from collections import deque\n",
        "\n",
        "# moviepy is a python module used for video editing , which can used for basic operation(like cut, concatenation,title insertion)\n",
        "# video compostitin(non linear editing), video processing, or to create advance effect\n",
        "\n",
        "# from moviepy.editor import *\n",
        "\n",
        "# it will split the our dataset into train and test\n",
        "from sklearn.model_selection import train_test_split\n",
        "from keras.layers import ConvLSTM2D,MaxPooling3D,Dropout, TimeDistributed, Flatten,Dense,LSTM,MaxPooling2D,Conv2D\n",
        "from keras import Sequential\n",
        "from keras.utils import to_categorical,plot_model\n",
        "from keras.callbacks import EarlyStopping"
      ]
    },
    {
      "cell_type": "code",
      "execution_count": 4,
      "metadata": {
        "colab": {
          "base_uri": "https://localhost:8080/",
          "height": 34
        },
        "id": "mQwUavaXB6vb",
        "outputId": "ef2e7e49-9b72-4ae9-9186-271575d1f535"
      },
      "outputs": [
        {
          "output_type": "display_data",
          "data": {
            "text/plain": [
              "<Figure size 1440x1440 with 0 Axes>"
            ]
          },
          "metadata": {}
        }
      ],
      "source": [
        "\n",
        "# After that we will set numpy, python, tensorflow seed to get consistent result on every execution\n",
        "# it means it reduce randomness\n",
        "import random\n",
        "\n",
        "seed_constant = 27\n",
        "np.random.seed(seed_constant)\n",
        "random.seed(seed_constant)\n",
        "tf.random.set_seed(seed_constant)\n",
        "\n",
        "plt.figure(figsize=(20,20))\n",
        "\n",
        "# get the names of all classes/catagories from dataset\n",
        "\n",
        "all_classes_names = os.listdir(\"/content/UCF50\")\n",
        "\n",
        "\n",
        "# Generate the list of 20 random values , the value will be b/w 0-50\n",
        "# where 50 is the total number of classes/catagories in the dataset\n",
        "\n",
        "import random\n",
        "\n",
        "random_range = random.sample(range(len(all_classes_names)), 20)"
      ]
    },
    {
      "cell_type": "code",
      "execution_count": 1,
      "metadata": {
        "id": "0PN97hNyAX_W"
      },
      "outputs": [],
      "source": [
        "# Discard the output of this cell.\n",
        "%%capture\n",
        "\n",
        "# Downlaod the UCF50 Dataset\n",
        "!wget --no-check-certificate https://www.crcv.ucf.edu/data/UCF50.rar\n",
        "\n",
        "#Extract the Dataset\n",
        "!unrar x UCF50.rar"
      ]
    },
    {
      "cell_type": "code",
      "execution_count": 5,
      "metadata": {
        "colab": {
          "base_uri": "https://localhost:8080/",
          "height": 248
        },
        "id": "rX6JY80f9QXh",
        "outputId": "f742b08d-7b1a-4a0f-9895-fae26755ea8c"
      },
      "outputs": [
        {
          "output_type": "display_data",
          "data": {
            "text/plain": [
              "<Figure size 432x288 with 20 Axes>"
            ],
            "image/png": "[encoded data removed]"
          },
          "metadata": {
            "needs_background": "light"
          }
        }
      ],
      "source": [
        "# iterate through all of the randomly genereated value\n",
        "for counter, random_index in enumerate(random_range,1):\n",
        "    \n",
        "    # retrive class_name by using random index\n",
        "    select_class_name = all_classes_names[random_index]\n",
        "    \n",
        "    # Retrive the list of all video files present in the randomly selected class directory\n",
        "    video_files_name_list = os.listdir(f\"/content/UCF50/{select_class_name}\")\n",
        "    \n",
        "    # Randomly selected a video file from the list of the retrived from the randomly select class directory\n",
        "    selected_video_file_name = random.choice(video_files_name_list)\n",
        "    \n",
        "    # initialized a videocapture object to read from the video file\n",
        "    video_reader = cv2.VideoCapture(f\"/content/UCF50/{select_class_name}/{selected_video_file_name}\")\n",
        "    \n",
        "    \n",
        "    # Read the first frame of  the video file\n",
        "    _, bgr_frame = video_reader.read()\n",
        "    \n",
        "    # Realse the video capture object\n",
        "    video_reader.release()\n",
        "    \n",
        "    # convert the frame from bgr to rbg formate\n",
        "    rgb_frame = cv2.cvtColor(bgr_frame, cv2.COLOR_BGR2RGB)\n",
        "    \n",
        "    # write the class name on each video frame \n",
        "    cv2.putText(rgb_frame, select_class_name, (10,30), cv2.FONT_HERSHEY_SIMPLEX, 1, (255,255,255),2)\n",
        "    \n",
        "    # Display the frame\n",
        "    plt.imshow(rgb_frame)\n",
        "    plt.subplot(5,4,counter)\n",
        "    plt.axis('off')\n",
        "    "
      ]
    },
    {
      "cell_type": "code",
      "execution_count": 63,
      "metadata": {
        "id": "MUGxXAjL9S8n"
      },
      "outputs": [],
      "source": [
        "IMAGE_WIDTH, IMAGE_HEIGHT = 64,64\n",
        "\n",
        "# it specify the number of frames of a video that will be feed to the model as a sequence\n",
        "# if we increase sequence lenght accuracy will increase but we need more computation for it\n",
        "SEQ_LENGTH = 25\n",
        "DATASET_DIR = \"/content/UCF50\"\n",
        "CLASS_LIST=['Basketball', 'MilitaryParade', 'WalkingWithDog','PlayingGuitar' ]\n",
        "CHANNELS =3\n",
        "input_shape = (SEQ_LENGTH, IMAGE_HEIGHT, IMAGE_WIDTH,CHANNELS)"
      ]
    },
    {
      "cell_type": "code",
      "execution_count": 8,
      "metadata": {
        "id": "SmUd6-jE9VHG"
      },
      "outputs": [],
      "source": [
        "def frame_extraction(video_path):\n",
        "    \"\"\"\n",
        "    1: With the help of this function we extract frame from videos\n",
        "    2: video_path: the path of the video in the disk , whose frame to be extracted\n",
        "    3: frames_list : This list contain all the resized and normalized frames of the video\n",
        "    \"\"\"\n",
        "    \n",
        "    frames_list = []\n",
        "    \n",
        "    # Read the video file by using VideoCapture object\n",
        "    video_reader = cv2.VideoCapture(video_path)\n",
        "    \n",
        "    # Get total number of frames from video \n",
        "    video_frames_count = int(video_reader.get(cv2.CAP_PROP_FRAME_COUNT))\n",
        "    \n",
        "    # Calculate the interval after which frame will be added to the list\n",
        "    skip_frame_window = max(int(video_frames_count/SEQ_LENGTH),1)\n",
        "    \n",
        "    # iterate throught video frames\n",
        "    for frame_counter in range(SEQ_LENGTH):\n",
        "        \n",
        "        # set the current frame position of the video\n",
        "        video_reader.set(cv2.CAP_PROP_POS_FRAMES, frame_counter * skip_frame_window)\n",
        "        \n",
        "        # read the frame from video\n",
        "        success, frame = video_reader.read()\n",
        "        \n",
        "        #check video frame is successfully read or not\n",
        "        # if not break\n",
        "        if not success:\n",
        "            break\n",
        "        \n",
        "        # Resize each frame to fixed width and height \n",
        "        resized_frame = cv2.resize(frame, (IMAGE_HEIGHT,IMAGE_WIDTH))\n",
        "        \n",
        "        # After reszing the frame , Normalized each pixel by dividing 255 to lie b/w [0-1]\n",
        "        normalized_frame = resized_frame/255\n",
        "        \n",
        "        # Append the normalized frame to list\n",
        "        frames_list.append(normalized_frame)\n",
        "        \n",
        "    video_reader.release()\n",
        "    \n",
        "    return frames_list\n",
        "    "
      ]
    },
    {
      "cell_type": "code",
      "execution_count": 11,
      "metadata": {
        "colab": {
          "base_uri": "https://localhost:8080/"
        },
        "id": "KQRkP_tk9X1S",
        "outputId": "c838b6ef-d6c4-442a-e875-95d0a61f9edb"
      },
      "outputs": [
        {
          "output_type": "stream",
          "name": "stdout",
          "text": [
            "Extracted data of the class: Basketball\n",
            "total_files/video: 137\n",
            "Extracted data of the class: MilitaryParade\n",
            "total_files/video: 127\n",
            "Extracted data of the class: WalkingWithDog\n",
            "total_files/video: 123\n",
            "Extracted data of the class: PlayingGuitar\n",
            "total_files/video: 160\n"
          ]
        }
      ],
      "source": [
        "def create_dateset():\n",
        "    \"\"\"\n",
        "    features[]--> it will contain the extracted frames of the video \n",
        "    labels[]-->   it will contain the indexes of the classes associated with video\n",
        "    video_files_path[]--> it will contain the path of video in the index\n",
        "    \"\"\"\n",
        "    features = []\n",
        "    labels = []\n",
        "    video_files_paths = []\n",
        "#     print(CLASS_LIST)\n",
        "    # iterate through all the classes mentioned in the class list\n",
        "    for class_index, class_name in enumerate(CLASS_LIST):\n",
        "        print(f\"Extracted data of the class: {class_name}\")\n",
        "        \n",
        "    # Get the list of the video files present in the specific class name directory\n",
        "        files_list = os.listdir(os.path.join(DATASET_DIR, class_name))\n",
        "    \n",
        "    # Iterate through all the files present in the file list\n",
        "        print(\"total_files/video:\" ,len(files_list))\n",
        "        for file_name in files_list:\n",
        "               # Get the complete video path\n",
        "            video_file_path= os.path.join(DATASET_DIR,class_name,file_name)\n",
        "\n",
        "            # Extract the frames of the video file\n",
        "            frames = frame_extraction(video_file_path)\n",
        "\n",
        "             # Check if the extracted frames are equal to the SEQ_LENGTH specified above.\n",
        "             # So ignore the vides having frames less than the SEQUENCE_LENGTH.\n",
        "            if len(frames) == SEQ_LENGTH:\n",
        "                # Append the data to their respective list:\n",
        "                features.append(frames)\n",
        "                labels.append(class_index)\n",
        "                video_files_paths.append(video_file_path)\n",
        "\n",
        "            # convert list to the numpy array\n",
        "    features = np.asarray(features)\n",
        "    labels = np.array(labels)\n",
        "\n",
        "    return features, labels, video_file_path\n",
        "\n",
        "features, labels, video_files_paths = create_dateset()"
      ]
    },
    {
      "cell_type": "code",
      "execution_count": 12,
      "metadata": {
        "id": "f2OZBFLE9bzT"
      },
      "outputs": [],
      "source": [
        "# # Now we will convert the class_label(index) into one-hot-encoded vectors\n",
        "one_hot_encoded_vectors = to_categorical(labels)\n"
      ]
    },
    {
      "cell_type": "code",
      "execution_count": 13,
      "metadata": {
        "id": "Fg3P2fg89ggK"
      },
      "outputs": [],
      "source": [
        "feature_train, feature_test, label_train, label_test = train_test_split(features, one_hot_encoded_vectors, test_size=0.2, shuffle=True, random_state=seed_constant)"
      ]
    },
    {
      "cell_type": "code",
      "execution_count": null,
      "metadata": {
        "colab": {
          "background_save": true
        },
        "id": "I2mXvDrN_I2T"
      },
      "outputs": [],
      "source": [
        "# train_model_evaluate = convlstm_model.evaluate(feature_test,label_test)"
      ]
    },
    {
      "cell_type": "code",
      "execution_count": 14,
      "metadata": {
        "colab": {
          "base_uri": "https://localhost:8080/"
        },
        "id": "YEAP3R89RmZk",
        "outputId": "7fb0ae1f-4f2d-4429-fb63-ab5d562ef178"
      },
      "outputs": [
        {
          "output_type": "stream",
          "name": "stdout",
          "text": [
            "Epoch 1/50\n",
            "88/88 [==============================] - 85s 743ms/step - loss: 1.3928 - accuracy: 0.2951 - val_loss: 1.3951 - val_accuracy: 0.2386\n",
            "Epoch 2/50\n",
            "88/88 [==============================] - 61s 689ms/step - loss: 1.3644 - accuracy: 0.3238 - val_loss: 1.3129 - val_accuracy: 0.2386\n",
            "Epoch 3/50\n",
            "88/88 [==============================] - 60s 680ms/step - loss: 1.2378 - accuracy: 0.3524 - val_loss: 1.1553 - val_accuracy: 0.4545\n",
            "Epoch 4/50\n",
            "88/88 [==============================] - 64s 731ms/step - loss: 0.9890 - accuracy: 0.5817 - val_loss: 0.9189 - val_accuracy: 0.6364\n",
            "Epoch 5/50\n",
            "88/88 [==============================] - 60s 683ms/step - loss: 0.8466 - accuracy: 0.6476 - val_loss: 1.0698 - val_accuracy: 0.5909\n",
            "Epoch 6/50\n",
            "88/88 [==============================] - 59s 675ms/step - loss: 0.7004 - accuracy: 0.7450 - val_loss: 0.7962 - val_accuracy: 0.7614\n",
            "Epoch 7/50\n",
            "88/88 [==============================] - 59s 675ms/step - loss: 0.6430 - accuracy: 0.7278 - val_loss: 0.7341 - val_accuracy: 0.7159\n",
            "Epoch 8/50\n",
            "88/88 [==============================] - 60s 677ms/step - loss: 0.4417 - accuracy: 0.8424 - val_loss: 0.6390 - val_accuracy: 0.7841\n",
            "Epoch 9/50\n",
            "88/88 [==============================] - 59s 672ms/step - loss: 0.4913 - accuracy: 0.8166 - val_loss: 0.5600 - val_accuracy: 0.8068\n",
            "Epoch 10/50\n",
            "88/88 [==============================] - 63s 712ms/step - loss: 0.3768 - accuracy: 0.8510 - val_loss: 0.5414 - val_accuracy: 0.8523\n",
            "Epoch 11/50\n",
            "88/88 [==============================] - 82s 929ms/step - loss: 0.3587 - accuracy: 0.8682 - val_loss: 0.5589 - val_accuracy: 0.8182\n",
            "Epoch 12/50\n",
            "88/88 [==============================] - 68s 767ms/step - loss: 0.3477 - accuracy: 0.8739 - val_loss: 0.5976 - val_accuracy: 0.7500\n",
            "Epoch 13/50\n",
            "88/88 [==============================] - 59s 675ms/step - loss: 0.4626 - accuracy: 0.8223 - val_loss: 0.5322 - val_accuracy: 0.8523\n",
            "Epoch 14/50\n",
            "88/88 [==============================] - 71s 811ms/step - loss: 0.2770 - accuracy: 0.8997 - val_loss: 0.6088 - val_accuracy: 0.8295\n",
            "Epoch 15/50\n",
            "88/88 [==============================] - 73s 823ms/step - loss: 0.2433 - accuracy: 0.9083 - val_loss: 0.6503 - val_accuracy: 0.8295\n",
            "Epoch 16/50\n",
            "88/88 [==============================] - 73s 828ms/step - loss: 0.2384 - accuracy: 0.9169 - val_loss: 1.1043 - val_accuracy: 0.7841\n",
            "Epoch 17/50\n",
            "88/88 [==============================] - 76s 865ms/step - loss: 0.2677 - accuracy: 0.8968 - val_loss: 0.7114 - val_accuracy: 0.8295\n",
            "Epoch 18/50\n",
            "88/88 [==============================] - 70s 793ms/step - loss: 0.1968 - accuracy: 0.9226 - val_loss: 0.9076 - val_accuracy: 0.8068\n",
            "Epoch 19/50\n",
            "88/88 [==============================] - 77s 877ms/step - loss: 0.2171 - accuracy: 0.9054 - val_loss: 0.7531 - val_accuracy: 0.8068\n",
            "Epoch 20/50\n",
            "88/88 [==============================] - 74s 839ms/step - loss: 0.2860 - accuracy: 0.9169 - val_loss: 0.4390 - val_accuracy: 0.8295\n",
            "Epoch 21/50\n",
            "88/88 [==============================] - 79s 898ms/step - loss: 0.2390 - accuracy: 0.9255 - val_loss: 0.5687 - val_accuracy: 0.8523\n",
            "Epoch 22/50\n",
            "88/88 [==============================] - 77s 868ms/step - loss: 0.1290 - accuracy: 0.9513 - val_loss: 0.5394 - val_accuracy: 0.8409\n",
            "Epoch 23/50\n",
            "88/88 [==============================] - 78s 886ms/step - loss: 0.1084 - accuracy: 0.9628 - val_loss: 0.6598 - val_accuracy: 0.8295\n",
            "Epoch 24/50\n",
            "88/88 [==============================] - 72s 818ms/step - loss: 0.1187 - accuracy: 0.9628 - val_loss: 0.7348 - val_accuracy: 0.8068\n",
            "Epoch 25/50\n",
            "88/88 [==============================] - 87s 991ms/step - loss: 0.1210 - accuracy: 0.9513 - val_loss: 1.2361 - val_accuracy: 0.8636\n",
            "Epoch 26/50\n",
            "88/88 [==============================] - 70s 796ms/step - loss: 0.1395 - accuracy: 0.9542 - val_loss: 1.3439 - val_accuracy: 0.7955\n",
            "Epoch 27/50\n",
            "88/88 [==============================] - 82s 936ms/step - loss: 0.1134 - accuracy: 0.9685 - val_loss: 0.7936 - val_accuracy: 0.8750\n",
            "Epoch 28/50\n",
            "88/88 [==============================] - 88s 1s/step - loss: 0.1213 - accuracy: 0.9599 - val_loss: 0.9563 - val_accuracy: 0.8409\n",
            "Epoch 29/50\n",
            "88/88 [==============================] - 90s 1s/step - loss: 0.1174 - accuracy: 0.9599 - val_loss: 1.3563 - val_accuracy: 0.8182\n",
            "Epoch 30/50\n",
            "88/88 [==============================] - 73s 826ms/step - loss: 0.0480 - accuracy: 0.9857 - val_loss: 1.1188 - val_accuracy: 0.8523\n"
          ]
        }
      ],
      "source": [
        "def create_convlstm_model():\n",
        "    \"\"\"This function will construct the required convlstm approach\n",
        "        It will return the required constructed model\"\"\"\n",
        "    # we will use sequental model for model construction\n",
        "    model = Sequential()\n",
        "    \n",
        "    \n",
        "    \n",
        "#     Convlstm model construction\n",
        "\n",
        "#     First ConvLSTM2D cell\n",
        "    model.add(ConvLSTM2D(filters=4, kernel_size=(3,3), activation='relu', data_format='channels_last',\n",
        "                         recurrent_dropout=0.2,return_sequences=True, \n",
        "                         input_shape=(SEQ_LENGTH, IMAGE_HEIGHT, IMAGE_WIDTH, CHANNELS)))\n",
        "#     Noramly we will used MaxPooling2d when we working with simple image classification\n",
        "     # but here we are working with video base classifition so we used MaxPoolinf3D which work very well with video\n",
        "    model.add(MaxPooling3D(pool_size=(1,2,2), padding='same', data_format='channels_last'))\n",
        "    model.add(TimeDistributed(Dropout(0.2)))\n",
        "    \n",
        "    \n",
        "    #     2nd ConvLSTM2D cell\n",
        "    model.add(ConvLSTM2D(filters=8, kernel_size=(3,3), activation='relu', data_format='channels_last',\n",
        "                         recurrent_dropout=0.2,return_sequences=True, \n",
        "                         input_shape=(SEQ_LENGTH, IMAGE_HEIGHT, IMAGE_WIDTH, CHANNELS)))\n",
        "    model.add(MaxPooling3D(pool_size=(1,2,2), padding='same', data_format='channels_last'))\n",
        "    model.add(TimeDistributed(Dropout(0.2)))\n",
        "    \n",
        "    \n",
        "    \n",
        "    #     3rd ConvLSTM2D cell\n",
        "    model.add(ConvLSTM2D(filters=14, kernel_size=(3,3), activation='relu', data_format='channels_last',\n",
        "                         recurrent_dropout=0.2,return_sequences=True, \n",
        "                         input_shape=(SEQ_LENGTH, IMAGE_HEIGHT, IMAGE_WIDTH, CHANNELS)))\n",
        "    model.add(MaxPooling3D(pool_size=(1,2,2), padding='same', data_format='channels_last'))\n",
        "    model.add(TimeDistributed(Dropout(0.2)))\n",
        "    \n",
        "    \n",
        "    #     4th ConvLSTM2D cell\n",
        "    model.add(ConvLSTM2D(filters=16, kernel_size=(3,3), activation='relu', data_format='channels_last',\n",
        "                         recurrent_dropout=0.2,return_sequences=True, \n",
        "                         input_shape=(SEQ_LENGTH, IMAGE_HEIGHT, IMAGE_WIDTH, CHANNELS)))\n",
        "    model.add(MaxPooling3D(pool_size=(1,2,2), padding='same', data_format='channels_last'))\n",
        "    # model.add(TimeDistributed(Dropout(0.2)))\n",
        "    \n",
        "    model.add(Flatten())\n",
        "    model.add(Dense(4096, activation='relu'))\n",
        "    model.add(Dense(4096, activation='relu'))\n",
        "    model.add(Dropout(0.3))\n",
        "    \n",
        "    model.add(Dense(len(CLASS_LIST), activation='softmax'))\n",
        "    \n",
        "    # model.summary()\n",
        "    return model\n",
        "\n",
        "convlstm_model = create_convlstm_model()\n",
        "early_stopping_callback = EarlyStopping(monitor='val_loss', patience=10, mode='min', restore_best_weights=True)\n",
        "\n",
        "convlstm_model.compile(loss='categorical_crossentropy', optimizer='adam', metrics=['accuracy'])\n",
        "convlstm_model_training_history2 = convlstm_model.fit(x = feature_train, y = label_train, epochs = 50, batch_size = 4,\n",
        "                                                     shuffle = True, validation_split = 0.2, \n",
        "                                                     callbacks = [early_stopping_callback])"
      ]
    },
    {
      "cell_type": "code",
      "execution_count": 15,
      "metadata": {
        "colab": {
          "base_uri": "https://localhost:8080/"
        },
        "id": "DaVrC7mcSH-_",
        "outputId": "a5eecf81-064e-4744-e0de-1397e86c6b2e"
      },
      "outputs": [
        {
          "output_type": "stream",
          "name": "stdout",
          "text": [
            "4/4 [==============================] - 2s 128ms/step - loss: 0.5495 - accuracy: 0.8727\n"
          ]
        }
      ],
      "source": [
        "train_model_evaluate2 = convlstm_model.evaluate(feature_test,label_test)"
      ]
    },
    {
      "cell_type": "code",
      "execution_count": 16,
      "metadata": {
        "id": "8UUMoNp6UPRL"
      },
      "outputs": [],
      "source": [
        "convlstm_loss, convlstm_accuracy = train_model_evaluate2\n",
        "date_time_foramte = '%Y_%m_%d__%H_%M_%S'\n",
        "current_date_time = dt.datetime.now()\n",
        "current_datatime_tostring=dt.datetime.strftime(current_date_time,date_time_foramte)\n",
        "save_my_train_model =f\"datetime{current_date_time}__loss_model{convlstm_loss}__accuracy_model{convlstm_accuracy}.h5\"\n",
        "convlstm_model.save(save_my_train_model)"
      ]
    },
    {
      "cell_type": "markdown",
      "source": [
        "**Plot our train model to visualized train_loss trest_loss, train_accuracy and test_accurac**"
      ],
      "metadata": {
        "id": "EqDvDXMpU-BK"
      }
    },
    {
      "cell_type": "code",
      "source": [
        "def plot_metric(convlstm_model_training_history2, metric_name_1, metric_name_2, plot_name):\n",
        "    '''\n",
        "    This function will plot the metrics passed to it in a graph.\n",
        "    Args:\n",
        "        model_training_history: A history object containing a record of training and validation \n",
        "                                loss values and metrics values at successive epochs\n",
        "        metric_name_1:          The name of the first metric that needs to be plotted in the graph.\n",
        "        metric_name_2:          The name of the second metric that needs to be plotted in the graph.\n",
        "        plot_name:              The title of the graph.\n",
        "    '''\n",
        "    \n",
        "    # Get metric values using metric names as identifiers.\n",
        "    metric_value_1 = convlstm_model_training_history2.history[metric_name_1]\n",
        "    metric_value_2 = convlstm_model_training_history2.history[metric_name_2]\n",
        "    \n",
        "    # Construct a range object which will be used as x-axis (horizontal plane) of the graph.\n",
        "    epochs = range(len(metric_value_1))\n",
        "\n",
        "    # Plot the Graph.\n",
        "    plt.plot(epochs, metric_value_1, 'blue', label = metric_name_1)\n",
        "    plt.plot(epochs, metric_value_2, 'red', label = metric_name_2)\n",
        "\n",
        "    # Add title to the plot.\n",
        "    plt.title(str(plot_name))\n",
        "\n",
        "    # Add legend to the plot.\n",
        "    plt.legend()"
      ],
      "metadata": {
        "id": "bnMd74tfVQmi"
      },
      "execution_count": 24,
      "outputs": []
    },
    {
      "cell_type": "code",
      "source": [
        "# visualized the training and validation loss metric  \n",
        "plot_metrice(convlstm_model_training_history2, 'loss', 'val_loss','Total_loss vs Total Validation loss')"
      ],
      "metadata": {
        "colab": {
          "base_uri": "https://localhost:8080/",
          "height": 576
        },
        "id": "8f9kAi_8VvdQ",
        "outputId": "80d3f0ee-3cb5-4c45-8edf-c30dd788ca1a"
      },
      "execution_count": 25,
      "outputs": [
        {
          "output_type": "error",
          "ename": "ValueError",
          "evalue": "ignored",
          "traceback": [
            "\u001b[0;31m---------------------------------------------------------------------------\u001b[0m",
            "\u001b[0;31mValueError\u001b[0m                                Traceback (most recent call last)",
            "\u001b[0;32m<ipython-input-25-813f8f7f1631>\u001b[0m in \u001b[0;36m<module>\u001b[0;34m\u001b[0m\n\u001b[1;32m      1\u001b[0m \u001b[0;31m# visualized the training and validation loss metric\u001b[0m\u001b[0;34m\u001b[0m\u001b[0;34m\u001b[0m\u001b[0;34m\u001b[0m\u001b[0m\n\u001b[0;32m----> 2\u001b[0;31m \u001b[0mplot_metrice\u001b[0m\u001b[0;34m(\u001b[0m\u001b[0mconvlstm_model_training_history2\u001b[0m\u001b[0;34m,\u001b[0m \u001b[0;34m'loss'\u001b[0m\u001b[0;34m,\u001b[0m \u001b[0;34m'val_loss'\u001b[0m\u001b[0;34m,\u001b[0m\u001b[0;34m'Total_loss vs Total Validation loss'\u001b[0m\u001b[0;34m)\u001b[0m\u001b[0;34m\u001b[0m\u001b[0;34m\u001b[0m\u001b[0m\n\u001b[0m",
            "\u001b[0;32m<ipython-input-22-cfe0d8469431>\u001b[0m in \u001b[0;36mplot_metrice\u001b[0;34m(convlstm_model_training_history2, metric_name_1, metric_name_2, plot_name)\u001b[0m\n\u001b[1;32m     14\u001b[0m \u001b[0;34m\u001b[0m\u001b[0m\n\u001b[1;32m     15\u001b[0m     \u001b[0;31m# plot the graph\u001b[0m\u001b[0;34m\u001b[0m\u001b[0;34m\u001b[0m\u001b[0;34m\u001b[0m\u001b[0m\n\u001b[0;32m---> 16\u001b[0;31m     \u001b[0mplt\u001b[0m\u001b[0;34m.\u001b[0m\u001b[0mplot\u001b[0m\u001b[0;34m(\u001b[0m\u001b[0mepochs\u001b[0m\u001b[0;34m,\u001b[0m \u001b[0mmetric_name_1\u001b[0m\u001b[0;34m,\u001b[0m \u001b[0;34m'blue'\u001b[0m\u001b[0;34m,\u001b[0m\u001b[0mlabel\u001b[0m\u001b[0;34m=\u001b[0m\u001b[0mmetric_name_1\u001b[0m\u001b[0;34m)\u001b[0m\u001b[0;34m\u001b[0m\u001b[0;34m\u001b[0m\u001b[0m\n\u001b[0m\u001b[1;32m     17\u001b[0m     \u001b[0mplt\u001b[0m\u001b[0;34m.\u001b[0m\u001b[0mplot\u001b[0m\u001b[0;34m(\u001b[0m\u001b[0mepochs\u001b[0m\u001b[0;34m,\u001b[0m \u001b[0mmetric_name_2\u001b[0m\u001b[0;34m,\u001b[0m \u001b[0;34m'red'\u001b[0m\u001b[0;34m,\u001b[0m\u001b[0mlabel\u001b[0m\u001b[0;34m=\u001b[0m\u001b[0mmetric_name_2\u001b[0m\u001b[0;34m)\u001b[0m\u001b[0;34m\u001b[0m\u001b[0;34m\u001b[0m\u001b[0m\n\u001b[1;32m     18\u001b[0m \u001b[0;34m\u001b[0m\u001b[0m\n",
            "\u001b[0;32m/usr/local/lib/python3.8/dist-packages/matplotlib/pyplot.py\u001b[0m in \u001b[0;36mplot\u001b[0;34m(scalex, scaley, data, *args, **kwargs)\u001b[0m\n\u001b[1;32m   2759\u001b[0m \u001b[0;34m@\u001b[0m\u001b[0mdocstring\u001b[0m\u001b[0;34m.\u001b[0m\u001b[0mcopy\u001b[0m\u001b[0;34m(\u001b[0m\u001b[0mAxes\u001b[0m\u001b[0;34m.\u001b[0m\u001b[0mplot\u001b[0m\u001b[0;34m)\u001b[0m\u001b[0;34m\u001b[0m\u001b[0;34m\u001b[0m\u001b[0m\n\u001b[1;32m   2760\u001b[0m \u001b[0;32mdef\u001b[0m \u001b[0mplot\u001b[0m\u001b[0;34m(\u001b[0m\u001b[0;34m*\u001b[0m\u001b[0margs\u001b[0m\u001b[0;34m,\u001b[0m \u001b[0mscalex\u001b[0m\u001b[0;34m=\u001b[0m\u001b[0;32mTrue\u001b[0m\u001b[0;34m,\u001b[0m \u001b[0mscaley\u001b[0m\u001b[0;34m=\u001b[0m\u001b[0;32mTrue\u001b[0m\u001b[0;34m,\u001b[0m \u001b[0mdata\u001b[0m\u001b[0;34m=\u001b[0m\u001b[0;32mNone\u001b[0m\u001b[0;34m,\u001b[0m \u001b[0;34m**\u001b[0m\u001b[0mkwargs\u001b[0m\u001b[0;34m)\u001b[0m\u001b[0;34m:\u001b[0m\u001b[0;34m\u001b[0m\u001b[0;34m\u001b[0m\u001b[0m\n\u001b[0;32m-> 2761\u001b[0;31m     return gca().plot(\n\u001b[0m\u001b[1;32m   2762\u001b[0m         *args, scalex=scalex, scaley=scaley, **({\"data\": data} if data\n\u001b[1;32m   2763\u001b[0m         is not None else {}), **kwargs)\n",
            "\u001b[0;32m/usr/local/lib/python3.8/dist-packages/matplotlib/axes/_axes.py\u001b[0m in \u001b[0;36mplot\u001b[0;34m(self, scalex, scaley, data, *args, **kwargs)\u001b[0m\n\u001b[1;32m   1645\u001b[0m         \"\"\"\n\u001b[1;32m   1646\u001b[0m         \u001b[0mkwargs\u001b[0m \u001b[0;34m=\u001b[0m \u001b[0mcbook\u001b[0m\u001b[0;34m.\u001b[0m\u001b[0mnormalize_kwargs\u001b[0m\u001b[0;34m(\u001b[0m\u001b[0mkwargs\u001b[0m\u001b[0;34m,\u001b[0m \u001b[0mmlines\u001b[0m\u001b[0;34m.\u001b[0m\u001b[0mLine2D\u001b[0m\u001b[0;34m)\u001b[0m\u001b[0;34m\u001b[0m\u001b[0;34m\u001b[0m\u001b[0m\n\u001b[0;32m-> 1647\u001b[0;31m         \u001b[0mlines\u001b[0m \u001b[0;34m=\u001b[0m \u001b[0;34m[\u001b[0m\u001b[0;34m*\u001b[0m\u001b[0mself\u001b[0m\u001b[0;34m.\u001b[0m\u001b[0m_get_lines\u001b[0m\u001b[0;34m(\u001b[0m\u001b[0;34m*\u001b[0m\u001b[0margs\u001b[0m\u001b[0;34m,\u001b[0m \u001b[0mdata\u001b[0m\u001b[0;34m=\u001b[0m\u001b[0mdata\u001b[0m\u001b[0;34m,\u001b[0m \u001b[0;34m**\u001b[0m\u001b[0mkwargs\u001b[0m\u001b[0;34m)\u001b[0m\u001b[0;34m]\u001b[0m\u001b[0;34m\u001b[0m\u001b[0;34m\u001b[0m\u001b[0m\n\u001b[0m\u001b[1;32m   1648\u001b[0m         \u001b[0;32mfor\u001b[0m \u001b[0mline\u001b[0m \u001b[0;32min\u001b[0m \u001b[0mlines\u001b[0m\u001b[0;34m:\u001b[0m\u001b[0;34m\u001b[0m\u001b[0;34m\u001b[0m\u001b[0m\n\u001b[1;32m   1649\u001b[0m             \u001b[0mself\u001b[0m\u001b[0;34m.\u001b[0m\u001b[0madd_line\u001b[0m\u001b[0;34m(\u001b[0m\u001b[0mline\u001b[0m\u001b[0;34m)\u001b[0m\u001b[0;34m\u001b[0m\u001b[0;34m\u001b[0m\u001b[0m\n",
            "\u001b[0;32m/usr/local/lib/python3.8/dist-packages/matplotlib/axes/_base.py\u001b[0m in \u001b[0;36m__call__\u001b[0;34m(self, *args, **kwargs)\u001b[0m\n\u001b[1;32m    214\u001b[0m                 \u001b[0mthis\u001b[0m \u001b[0;34m+=\u001b[0m \u001b[0margs\u001b[0m\u001b[0;34m[\u001b[0m\u001b[0;36m0\u001b[0m\u001b[0;34m]\u001b[0m\u001b[0;34m,\u001b[0m\u001b[0;34m\u001b[0m\u001b[0;34m\u001b[0m\u001b[0m\n\u001b[1;32m    215\u001b[0m                 \u001b[0margs\u001b[0m \u001b[0;34m=\u001b[0m \u001b[0margs\u001b[0m\u001b[0;34m[\u001b[0m\u001b[0;36m1\u001b[0m\u001b[0;34m:\u001b[0m\u001b[0;34m]\u001b[0m\u001b[0;34m\u001b[0m\u001b[0;34m\u001b[0m\u001b[0m\n\u001b[0;32m--> 216\u001b[0;31m             \u001b[0;32myield\u001b[0m \u001b[0;32mfrom\u001b[0m \u001b[0mself\u001b[0m\u001b[0;34m.\u001b[0m\u001b[0m_plot_args\u001b[0m\u001b[0;34m(\u001b[0m\u001b[0mthis\u001b[0m\u001b[0;34m,\u001b[0m \u001b[0mkwargs\u001b[0m\u001b[0;34m)\u001b[0m\u001b[0;34m\u001b[0m\u001b[0;34m\u001b[0m\u001b[0m\n\u001b[0m\u001b[1;32m    217\u001b[0m \u001b[0;34m\u001b[0m\u001b[0m\n\u001b[1;32m    218\u001b[0m     \u001b[0;32mdef\u001b[0m \u001b[0mget_next_color\u001b[0m\u001b[0;34m(\u001b[0m\u001b[0mself\u001b[0m\u001b[0;34m)\u001b[0m\u001b[0;34m:\u001b[0m\u001b[0;34m\u001b[0m\u001b[0;34m\u001b[0m\u001b[0m\n",
            "\u001b[0;32m/usr/local/lib/python3.8/dist-packages/matplotlib/axes/_base.py\u001b[0m in \u001b[0;36m_plot_args\u001b[0;34m(self, tup, kwargs)\u001b[0m\n\u001b[1;32m    340\u001b[0m \u001b[0;34m\u001b[0m\u001b[0m\n\u001b[1;32m    341\u001b[0m         \u001b[0;32mif\u001b[0m \u001b[0mx\u001b[0m\u001b[0;34m.\u001b[0m\u001b[0mshape\u001b[0m\u001b[0;34m[\u001b[0m\u001b[0;36m0\u001b[0m\u001b[0;34m]\u001b[0m \u001b[0;34m!=\u001b[0m \u001b[0my\u001b[0m\u001b[0;34m.\u001b[0m\u001b[0mshape\u001b[0m\u001b[0;34m[\u001b[0m\u001b[0;36m0\u001b[0m\u001b[0;34m]\u001b[0m\u001b[0;34m:\u001b[0m\u001b[0;34m\u001b[0m\u001b[0;34m\u001b[0m\u001b[0m\n\u001b[0;32m--> 342\u001b[0;31m             raise ValueError(f\"x and y must have same first dimension, but \"\n\u001b[0m\u001b[1;32m    343\u001b[0m                              f\"have shapes {x.shape} and {y.shape}\")\n\u001b[1;32m    344\u001b[0m         \u001b[0;32mif\u001b[0m \u001b[0mx\u001b[0m\u001b[0;34m.\u001b[0m\u001b[0mndim\u001b[0m \u001b[0;34m>\u001b[0m \u001b[0;36m2\u001b[0m \u001b[0;32mor\u001b[0m \u001b[0my\u001b[0m\u001b[0;34m.\u001b[0m\u001b[0mndim\u001b[0m \u001b[0;34m>\u001b[0m \u001b[0;36m2\u001b[0m\u001b[0;34m:\u001b[0m\u001b[0;34m\u001b[0m\u001b[0;34m\u001b[0m\u001b[0m\n",
            "\u001b[0;31mValueError\u001b[0m: x and y must have same first dimension, but have shapes (30,) and (1,)"
          ]
        },
        {
          "output_type": "display_data",
          "data": {
            "text/plain": [
              "<Figure size 432x288 with 1 Axes>"
            ],
            "image/png": "[encoded data removed]"
          },
          "metadata": {
            "needs_background": "light"
          }
        }
      ]
    },
    {
      "cell_type": "code",
      "source": [
        "plot_metrice(convlstm_model_training_history2, 'accuracy', 'val_accuracy','train_accuracy vs Total val_accuary loo')"
      ],
      "metadata": {
        "colab": {
          "base_uri": "https://localhost:8080/",
          "height": 559
        },
        "id": "5SsJ_lvJV8-e",
        "outputId": "56a37281-a619-4c12-8ba1-b82344160884"
      },
      "execution_count": 28,
      "outputs": [
        {
          "output_type": "error",
          "ename": "ValueError",
          "evalue": "ignored",
          "traceback": [
            "\u001b[0;31m---------------------------------------------------------------------------\u001b[0m",
            "\u001b[0;31mValueError\u001b[0m                                Traceback (most recent call last)",
            "\u001b[0;32m<ipython-input-28-66265ffa8ecb>\u001b[0m in \u001b[0;36m<module>\u001b[0;34m\u001b[0m\n\u001b[0;32m----> 1\u001b[0;31m \u001b[0mplot_metrice\u001b[0m\u001b[0;34m(\u001b[0m\u001b[0mconvlstm_model_training_history2\u001b[0m\u001b[0;34m,\u001b[0m \u001b[0;34m'accuracy'\u001b[0m\u001b[0;34m,\u001b[0m \u001b[0;34m'val_accuracy'\u001b[0m\u001b[0;34m,\u001b[0m\u001b[0;34m'train_accuracy vs Total val_accuary loo'\u001b[0m\u001b[0;34m)\u001b[0m\u001b[0;34m\u001b[0m\u001b[0;34m\u001b[0m\u001b[0m\n\u001b[0m",
            "\u001b[0;32m<ipython-input-22-cfe0d8469431>\u001b[0m in \u001b[0;36mplot_metrice\u001b[0;34m(convlstm_model_training_history2, metric_name_1, metric_name_2, plot_name)\u001b[0m\n\u001b[1;32m     14\u001b[0m \u001b[0;34m\u001b[0m\u001b[0m\n\u001b[1;32m     15\u001b[0m     \u001b[0;31m# plot the graph\u001b[0m\u001b[0;34m\u001b[0m\u001b[0;34m\u001b[0m\u001b[0;34m\u001b[0m\u001b[0m\n\u001b[0;32m---> 16\u001b[0;31m     \u001b[0mplt\u001b[0m\u001b[0;34m.\u001b[0m\u001b[0mplot\u001b[0m\u001b[0;34m(\u001b[0m\u001b[0mepochs\u001b[0m\u001b[0;34m,\u001b[0m \u001b[0mmetric_name_1\u001b[0m\u001b[0;34m,\u001b[0m \u001b[0;34m'blue'\u001b[0m\u001b[0;34m,\u001b[0m\u001b[0mlabel\u001b[0m\u001b[0;34m=\u001b[0m\u001b[0mmetric_name_1\u001b[0m\u001b[0;34m)\u001b[0m\u001b[0;34m\u001b[0m\u001b[0;34m\u001b[0m\u001b[0m\n\u001b[0m\u001b[1;32m     17\u001b[0m     \u001b[0mplt\u001b[0m\u001b[0;34m.\u001b[0m\u001b[0mplot\u001b[0m\u001b[0;34m(\u001b[0m\u001b[0mepochs\u001b[0m\u001b[0;34m,\u001b[0m \u001b[0mmetric_name_2\u001b[0m\u001b[0;34m,\u001b[0m \u001b[0;34m'red'\u001b[0m\u001b[0;34m,\u001b[0m\u001b[0mlabel\u001b[0m\u001b[0;34m=\u001b[0m\u001b[0mmetric_name_2\u001b[0m\u001b[0;34m)\u001b[0m\u001b[0;34m\u001b[0m\u001b[0;34m\u001b[0m\u001b[0m\n\u001b[1;32m     18\u001b[0m \u001b[0;34m\u001b[0m\u001b[0m\n",
            "\u001b[0;32m/usr/local/lib/python3.8/dist-packages/matplotlib/pyplot.py\u001b[0m in \u001b[0;36mplot\u001b[0;34m(scalex, scaley, data, *args, **kwargs)\u001b[0m\n\u001b[1;32m   2759\u001b[0m \u001b[0;34m@\u001b[0m\u001b[0mdocstring\u001b[0m\u001b[0;34m.\u001b[0m\u001b[0mcopy\u001b[0m\u001b[0;34m(\u001b[0m\u001b[0mAxes\u001b[0m\u001b[0;34m.\u001b[0m\u001b[0mplot\u001b[0m\u001b[0;34m)\u001b[0m\u001b[0;34m\u001b[0m\u001b[0;34m\u001b[0m\u001b[0m\n\u001b[1;32m   2760\u001b[0m \u001b[0;32mdef\u001b[0m \u001b[0mplot\u001b[0m\u001b[0;34m(\u001b[0m\u001b[0;34m*\u001b[0m\u001b[0margs\u001b[0m\u001b[0;34m,\u001b[0m \u001b[0mscalex\u001b[0m\u001b[0;34m=\u001b[0m\u001b[0;32mTrue\u001b[0m\u001b[0;34m,\u001b[0m \u001b[0mscaley\u001b[0m\u001b[0;34m=\u001b[0m\u001b[0;32mTrue\u001b[0m\u001b[0;34m,\u001b[0m \u001b[0mdata\u001b[0m\u001b[0;34m=\u001b[0m\u001b[0;32mNone\u001b[0m\u001b[0;34m,\u001b[0m \u001b[0;34m**\u001b[0m\u001b[0mkwargs\u001b[0m\u001b[0;34m)\u001b[0m\u001b[0;34m:\u001b[0m\u001b[0;34m\u001b[0m\u001b[0;34m\u001b[0m\u001b[0m\n\u001b[0;32m-> 2761\u001b[0;31m     return gca().plot(\n\u001b[0m\u001b[1;32m   2762\u001b[0m         *args, scalex=scalex, scaley=scaley, **({\"data\": data} if data\n\u001b[1;32m   2763\u001b[0m         is not None else {}), **kwargs)\n",
            "\u001b[0;32m/usr/local/lib/python3.8/dist-packages/matplotlib/axes/_axes.py\u001b[0m in \u001b[0;36mplot\u001b[0;34m(self, scalex, scaley, data, *args, **kwargs)\u001b[0m\n\u001b[1;32m   1645\u001b[0m         \"\"\"\n\u001b[1;32m   1646\u001b[0m         \u001b[0mkwargs\u001b[0m \u001b[0;34m=\u001b[0m \u001b[0mcbook\u001b[0m\u001b[0;34m.\u001b[0m\u001b[0mnormalize_kwargs\u001b[0m\u001b[0;34m(\u001b[0m\u001b[0mkwargs\u001b[0m\u001b[0;34m,\u001b[0m \u001b[0mmlines\u001b[0m\u001b[0;34m.\u001b[0m\u001b[0mLine2D\u001b[0m\u001b[0;34m)\u001b[0m\u001b[0;34m\u001b[0m\u001b[0;34m\u001b[0m\u001b[0m\n\u001b[0;32m-> 1647\u001b[0;31m         \u001b[0mlines\u001b[0m \u001b[0;34m=\u001b[0m \u001b[0;34m[\u001b[0m\u001b[0;34m*\u001b[0m\u001b[0mself\u001b[0m\u001b[0;34m.\u001b[0m\u001b[0m_get_lines\u001b[0m\u001b[0;34m(\u001b[0m\u001b[0;34m*\u001b[0m\u001b[0margs\u001b[0m\u001b[0;34m,\u001b[0m \u001b[0mdata\u001b[0m\u001b[0;34m=\u001b[0m\u001b[0mdata\u001b[0m\u001b[0;34m,\u001b[0m \u001b[0;34m**\u001b[0m\u001b[0mkwargs\u001b[0m\u001b[0;34m)\u001b[0m\u001b[0;34m]\u001b[0m\u001b[0;34m\u001b[0m\u001b[0;34m\u001b[0m\u001b[0m\n\u001b[0m\u001b[1;32m   1648\u001b[0m         \u001b[0;32mfor\u001b[0m \u001b[0mline\u001b[0m \u001b[0;32min\u001b[0m \u001b[0mlines\u001b[0m\u001b[0;34m:\u001b[0m\u001b[0;34m\u001b[0m\u001b[0;34m\u001b[0m\u001b[0m\n\u001b[1;32m   1649\u001b[0m             \u001b[0mself\u001b[0m\u001b[0;34m.\u001b[0m\u001b[0madd_line\u001b[0m\u001b[0;34m(\u001b[0m\u001b[0mline\u001b[0m\u001b[0;34m)\u001b[0m\u001b[0;34m\u001b[0m\u001b[0;34m\u001b[0m\u001b[0m\n",
            "\u001b[0;32m/usr/local/lib/python3.8/dist-packages/matplotlib/axes/_base.py\u001b[0m in \u001b[0;36m__call__\u001b[0;34m(self, *args, **kwargs)\u001b[0m\n\u001b[1;32m    214\u001b[0m                 \u001b[0mthis\u001b[0m \u001b[0;34m+=\u001b[0m \u001b[0margs\u001b[0m\u001b[0;34m[\u001b[0m\u001b[0;36m0\u001b[0m\u001b[0;34m]\u001b[0m\u001b[0;34m,\u001b[0m\u001b[0;34m\u001b[0m\u001b[0;34m\u001b[0m\u001b[0m\n\u001b[1;32m    215\u001b[0m                 \u001b[0margs\u001b[0m \u001b[0;34m=\u001b[0m \u001b[0margs\u001b[0m\u001b[0;34m[\u001b[0m\u001b[0;36m1\u001b[0m\u001b[0;34m:\u001b[0m\u001b[0;34m]\u001b[0m\u001b[0;34m\u001b[0m\u001b[0;34m\u001b[0m\u001b[0m\n\u001b[0;32m--> 216\u001b[0;31m             \u001b[0;32myield\u001b[0m \u001b[0;32mfrom\u001b[0m \u001b[0mself\u001b[0m\u001b[0;34m.\u001b[0m\u001b[0m_plot_args\u001b[0m\u001b[0;34m(\u001b[0m\u001b[0mthis\u001b[0m\u001b[0;34m,\u001b[0m \u001b[0mkwargs\u001b[0m\u001b[0;34m)\u001b[0m\u001b[0;34m\u001b[0m\u001b[0;34m\u001b[0m\u001b[0m\n\u001b[0m\u001b[1;32m    217\u001b[0m \u001b[0;34m\u001b[0m\u001b[0m\n\u001b[1;32m    218\u001b[0m     \u001b[0;32mdef\u001b[0m \u001b[0mget_next_color\u001b[0m\u001b[0;34m(\u001b[0m\u001b[0mself\u001b[0m\u001b[0;34m)\u001b[0m\u001b[0;34m:\u001b[0m\u001b[0;34m\u001b[0m\u001b[0;34m\u001b[0m\u001b[0m\n",
            "\u001b[0;32m/usr/local/lib/python3.8/dist-packages/matplotlib/axes/_base.py\u001b[0m in \u001b[0;36m_plot_args\u001b[0;34m(self, tup, kwargs)\u001b[0m\n\u001b[1;32m    340\u001b[0m \u001b[0;34m\u001b[0m\u001b[0m\n\u001b[1;32m    341\u001b[0m         \u001b[0;32mif\u001b[0m \u001b[0mx\u001b[0m\u001b[0;34m.\u001b[0m\u001b[0mshape\u001b[0m\u001b[0;34m[\u001b[0m\u001b[0;36m0\u001b[0m\u001b[0;34m]\u001b[0m \u001b[0;34m!=\u001b[0m \u001b[0my\u001b[0m\u001b[0;34m.\u001b[0m\u001b[0mshape\u001b[0m\u001b[0;34m[\u001b[0m\u001b[0;36m0\u001b[0m\u001b[0;34m]\u001b[0m\u001b[0;34m:\u001b[0m\u001b[0;34m\u001b[0m\u001b[0;34m\u001b[0m\u001b[0m\n\u001b[0;32m--> 342\u001b[0;31m             raise ValueError(f\"x and y must have same first dimension, but \"\n\u001b[0m\u001b[1;32m    343\u001b[0m                              f\"have shapes {x.shape} and {y.shape}\")\n\u001b[1;32m    344\u001b[0m         \u001b[0;32mif\u001b[0m \u001b[0mx\u001b[0m\u001b[0;34m.\u001b[0m\u001b[0mndim\u001b[0m \u001b[0;34m>\u001b[0m \u001b[0;36m2\u001b[0m \u001b[0;32mor\u001b[0m \u001b[0my\u001b[0m\u001b[0;34m.\u001b[0m\u001b[0mndim\u001b[0m \u001b[0;34m>\u001b[0m \u001b[0;36m2\u001b[0m\u001b[0;34m:\u001b[0m\u001b[0;34m\u001b[0m\u001b[0;34m\u001b[0m\u001b[0m\n",
            "\u001b[0;31mValueError\u001b[0m: x and y must have same first dimension, but have shapes (30,) and (1,)"
          ]
        },
        {
          "output_type": "display_data",
          "data": {
            "text/plain": [
              "<Figure size 432x288 with 1 Axes>"
            ],
            "image/png": "[encoded data removed]"
          },
          "metadata": {
            "needs_background": "light"
          }
        }
      ]
    },
    {
      "cell_type": "markdown",
      "source": [
        "# Implemnet LRCN(Long-term Recurrent convolutional Neural network"
      ],
      "metadata": {
        "id": "HIeuH0jlWGA2"
      }
    },
    {
      "cell_type": "markdown",
      "source": [
        "In this approch combination of both cnn-layers and lstm cell in a single model..Another similar approach is **CNN**(any cnn architecture)-**RNN**(lstm or gru) but in this approach we train both cnn-rnn model separtly.\n",
        "\n",
        "The cnn model is used to extract saptial feature from the frames in videos and for this purpose we used pre-trained model that can fine tuned for the problem and LSTM model can then used the feature extracted by cnn, to predict action being performed in the video"
      ],
      "metadata": {
        "id": "TkQr-kcNWe37"
      }
    },
    {
      "cell_type": "markdown",
      "source": [
        "But here we will implement LRCN. which combine both cnn and lstm layers in a single model.\n",
        "Convolutional layer are used to extract spatial features from the frames of videos, and extracted spatial features are fed to the lsmt layers at each time stamp step for temporal sequencel model.\n",
        "This way the network learn **spatiotemporal** features "
      ],
      "metadata": {
        "id": "L-RDnZxGYU9c"
      }
    },
    {
      "cell_type": "code",
      "source": [],
      "metadata": {
        "id": "z_LETnM5ZSeg"
      },
      "execution_count": null,
      "outputs": []
    },
    {
      "cell_type": "markdown",
      "source": [
        "**Contruct LRCN**"
      ],
      "metadata": {
        "id": "XCdRqSdcZfpF"
      }
    },
    {
      "cell_type": "code",
      "source": [
        "\n",
        "# def create_lrcn_model():\n",
        "  # model = Sequential()\n",
        "\n",
        "# # LRCN Architecture\n",
        "# # TimeDistributed layer are used to avoid Dependencies\n",
        "\n",
        "\n",
        "# # CNN_Layer1\n",
        "#   model.add(TimeDistributed(Conv2D(16, (3,3), padding='same', activation='relu', input_shape=input_shape)))\n",
        "#   model.add(TimeDistributed(MaxPooling2D((4, 4)))) \n",
        "#   model.add(TimeDistributed(Dropout(0.25)))\n",
        "\n",
        "\n",
        "# # CNN_Layer2\n",
        "#   model.add(TimeDistributed(Conv2D(32, (3,3), padding='same', activation='relu')))\n",
        "#   model.add(TimeDistributed(MaxPooling2D((4, 4)))) \n",
        "#   model.add(TimeDistributed(Dropout(0.25)))\n",
        "\n",
        "# # CNN_Layer3\n",
        "#   model.add(TimeDistributed(Conv2D(64, (3,3), padding='same', activation='relu')))\n",
        "#   model.add(TimeDistributed(MaxPooling2D((4, 4)))) \n",
        "#   model.add(TimeDistributed(Dropout(0.25)))\n",
        "\n",
        "# # CNN_Layer4\n",
        "#   model.add(TimeDistributed(Conv2D(64, (3,3), padding='same', activation='relu')))\n",
        "#   model.add(TimeDistributed(MaxPooling2D((2, 2)))) \n",
        "\n",
        "#   model.add(TimeDistributed(Flatten()))\n",
        "#   model.add(LSTM(32))\n",
        "\n",
        "#   model.add(Dense(len(CLASS_LIST), activation = 'softmax'))\n",
        "\n",
        "#   model.build(input_shape = input_shape)\n",
        "# # Display the model summay\n",
        "#   model.summary()\n",
        "\n",
        "#   return model\n",
        "\n",
        "\n",
        "\n",
        "\n",
        "\n",
        "def create_LRCN_model():\n",
        "    '''\n",
        "    This function will construct the required LRCN model.\n",
        "    Returns:\n",
        "        model: It is the required constructed LRCN model.\n",
        "    '''\n",
        "\n",
        "    # We will use a Sequential model for model construction.\n",
        "    model = Sequential()\n",
        "    \n",
        "    # Define the Model Architecture.\n",
        "    ########################################################################################################################\n",
        "    \n",
        "    model.add(TimeDistributed(Conv2D(16, (3, 3), padding='same', activation = 'relu'),input_shape = (20, IMAGE_HEIGHT, IMAGE_WIDTH, 3)))\n",
        "    \n",
        "    model.add(TimeDistributed(MaxPooling2D(pool_size=(2, 2)))) \n",
        "    model.add(TimeDistributed(Dropout(0.25)))\n",
        "    \n",
        "    model.add(TimeDistributed(Conv2D(32, (3, 3), padding='same',activation = 'relu')))\n",
        "    model.add(TimeDistributed(MaxPooling2D(pool_size=(2, 2)))) \n",
        "    model.add(TimeDistributed(Dropout(0.25)))\n",
        "    \n",
        "    model.add(TimeDistributed(Conv2D(64, (3, 3), padding='same',activation = 'relu')))\n",
        "    model.add(TimeDistributed(MaxPooling2D(pool_size=(2, 2)))) \n",
        "    model.add(TimeDistributed(Dropout(0.25)))\n",
        "    \n",
        "    model.add(TimeDistributed(Conv2D(64, (3, 3), padding='same',activation = 'relu')))\n",
        "    model.add(TimeDistributed(MaxPooling2D(pool_size=(2, 2)))) \n",
        "    #model.add(TimeDistributed(Dropout(0.25)))\n",
        "                                      \n",
        "    model.add(TimeDistributed(Flatten()))\n",
        "                                      \n",
        "    model.add(LSTM(32))\n",
        "                                      \n",
        "    model.add(Dense(len(CLASS_LIST), activation = 'softmax'))\n",
        "\n",
        "    ########################################################################################################################\n",
        "\n",
        "    # Display the models summary.\n",
        "    model.summary()\n",
        "    model.build(input_shape=(20, IMAGE_HEIGHT, IMAGE_WIDTH, 3))\n",
        "    # Return the constructed LRCN model.\n",
        "    return model"
      ],
      "metadata": {
        "id": "t9emMZUSZnPc"
      },
      "execution_count": 85,
      "outputs": []
    },
    {
      "cell_type": "code",
      "source": [
        "LRCN_MODEL =  create_lrcn_model()"
      ],
      "metadata": {
        "colab": {
          "base_uri": "https://localhost:8080/",
          "height": 328
        },
        "id": "5FMci4Chcj9_",
        "outputId": "e3b6ef08-d914-44e8-fd47-ebe59c5275d9"
      },
      "execution_count": 86,
      "outputs": [
        {
          "output_type": "error",
          "ename": "ValueError",
          "evalue": "ignored",
          "traceback": [
            "\u001b[0;31m---------------------------------------------------------------------------\u001b[0m",
            "\u001b[0;31mValueError\u001b[0m                                Traceback (most recent call last)",
            "\u001b[0;32m<ipython-input-86-fdb5719b54c5>\u001b[0m in \u001b[0;36m<module>\u001b[0;34m\u001b[0m\n\u001b[0;32m----> 1\u001b[0;31m \u001b[0mLRCN_MODEL\u001b[0m \u001b[0;34m=\u001b[0m  \u001b[0mcreate_lrcn_model\u001b[0m\u001b[0;34m(\u001b[0m\u001b[0;34m)\u001b[0m\u001b[0;34m\u001b[0m\u001b[0;34m\u001b[0m\u001b[0m\n\u001b[0m",
            "\u001b[0;32m<ipython-input-75-ccb796467b7a>\u001b[0m in \u001b[0;36mcreate_lrcn_model\u001b[0;34m()\u001b[0m\n\u001b[1;32m     51\u001b[0m   \u001b[0mmodel\u001b[0m\u001b[0;34m.\u001b[0m\u001b[0madd\u001b[0m\u001b[0;34m(\u001b[0m\u001b[0mConv2D\u001b[0m\u001b[0;34m(\u001b[0m\u001b[0;36m16\u001b[0m\u001b[0;34m,\u001b[0m \u001b[0;34m(\u001b[0m\u001b[0;36m3\u001b[0m\u001b[0;34m,\u001b[0m\u001b[0;36m3\u001b[0m\u001b[0;34m)\u001b[0m\u001b[0;34m,\u001b[0m \u001b[0mpadding\u001b[0m\u001b[0;34m=\u001b[0m\u001b[0;34m'same'\u001b[0m\u001b[0;34m,\u001b[0m \u001b[0mactivation\u001b[0m\u001b[0;34m=\u001b[0m\u001b[0;34m'relu'\u001b[0m\u001b[0;34m,\u001b[0m \u001b[0minput_shape\u001b[0m\u001b[0;34m=\u001b[0m\u001b[0minput_shape\u001b[0m\u001b[0;34m)\u001b[0m\u001b[0;34m)\u001b[0m\u001b[0;34m\u001b[0m\u001b[0;34m\u001b[0m\u001b[0m\n\u001b[1;32m     52\u001b[0m   \u001b[0mmodel\u001b[0m\u001b[0;34m.\u001b[0m\u001b[0madd\u001b[0m\u001b[0;34m(\u001b[0m\u001b[0mDropout\u001b[0m\u001b[0;34m(\u001b[0m\u001b[0;36m0.25\u001b[0m\u001b[0;34m)\u001b[0m\u001b[0;34m)\u001b[0m\u001b[0;34m\u001b[0m\u001b[0;34m\u001b[0m\u001b[0m\n\u001b[0;32m---> 53\u001b[0;31m   \u001b[0mmodel\u001b[0m\u001b[0;34m.\u001b[0m\u001b[0madd\u001b[0m\u001b[0;34m(\u001b[0m\u001b[0mMaxPooling2D\u001b[0m\u001b[0;34m(\u001b[0m\u001b[0;34m(\u001b[0m\u001b[0;36m2\u001b[0m\u001b[0;34m,\u001b[0m \u001b[0;36m2\u001b[0m\u001b[0;34m)\u001b[0m\u001b[0;34m)\u001b[0m\u001b[0;34m)\u001b[0m\u001b[0;34m\u001b[0m\u001b[0;34m\u001b[0m\u001b[0m\n\u001b[0m\u001b[1;32m     54\u001b[0m \u001b[0;34m\u001b[0m\u001b[0m\n\u001b[1;32m     55\u001b[0m \u001b[0;34m\u001b[0m\u001b[0m\n",
            "\u001b[0;32m/usr/local/lib/python3.8/dist-packages/tensorflow/python/training/tracking/base.py\u001b[0m in \u001b[0;36m_method_wrapper\u001b[0;34m(self, *args, **kwargs)\u001b[0m\n\u001b[1;32m    585\u001b[0m     \u001b[0mself\u001b[0m\u001b[0;34m.\u001b[0m\u001b[0m_self_setattr_tracking\u001b[0m \u001b[0;34m=\u001b[0m \u001b[0;32mFalse\u001b[0m  \u001b[0;31m# pylint: disable=protected-access\u001b[0m\u001b[0;34m\u001b[0m\u001b[0;34m\u001b[0m\u001b[0m\n\u001b[1;32m    586\u001b[0m     \u001b[0;32mtry\u001b[0m\u001b[0;34m:\u001b[0m\u001b[0;34m\u001b[0m\u001b[0;34m\u001b[0m\u001b[0m\n\u001b[0;32m--> 587\u001b[0;31m       \u001b[0mresult\u001b[0m \u001b[0;34m=\u001b[0m \u001b[0mmethod\u001b[0m\u001b[0;34m(\u001b[0m\u001b[0mself\u001b[0m\u001b[0;34m,\u001b[0m \u001b[0;34m*\u001b[0m\u001b[0margs\u001b[0m\u001b[0;34m,\u001b[0m \u001b[0;34m**\u001b[0m\u001b[0mkwargs\u001b[0m\u001b[0;34m)\u001b[0m\u001b[0;34m\u001b[0m\u001b[0;34m\u001b[0m\u001b[0m\n\u001b[0m\u001b[1;32m    588\u001b[0m     \u001b[0;32mfinally\u001b[0m\u001b[0;34m:\u001b[0m\u001b[0;34m\u001b[0m\u001b[0;34m\u001b[0m\u001b[0m\n\u001b[1;32m    589\u001b[0m       \u001b[0mself\u001b[0m\u001b[0;34m.\u001b[0m\u001b[0m_self_setattr_tracking\u001b[0m \u001b[0;34m=\u001b[0m \u001b[0mprevious_value\u001b[0m  \u001b[0;31m# pylint: disable=protected-access\u001b[0m\u001b[0;34m\u001b[0m\u001b[0;34m\u001b[0m\u001b[0m\n",
            "\u001b[0;32m/usr/local/lib/python3.8/dist-packages/keras/utils/traceback_utils.py\u001b[0m in \u001b[0;36merror_handler\u001b[0;34m(*args, **kwargs)\u001b[0m\n\u001b[1;32m     65\u001b[0m     \u001b[0;32mexcept\u001b[0m \u001b[0mException\u001b[0m \u001b[0;32mas\u001b[0m \u001b[0me\u001b[0m\u001b[0;34m:\u001b[0m  \u001b[0;31m# pylint: disable=broad-except\u001b[0m\u001b[0;34m\u001b[0m\u001b[0;34m\u001b[0m\u001b[0m\n\u001b[1;32m     66\u001b[0m       \u001b[0mfiltered_tb\u001b[0m \u001b[0;34m=\u001b[0m \u001b[0m_process_traceback_frames\u001b[0m\u001b[0;34m(\u001b[0m\u001b[0me\u001b[0m\u001b[0;34m.\u001b[0m\u001b[0m__traceback__\u001b[0m\u001b[0;34m)\u001b[0m\u001b[0;34m\u001b[0m\u001b[0;34m\u001b[0m\u001b[0m\n\u001b[0;32m---> 67\u001b[0;31m       \u001b[0;32mraise\u001b[0m \u001b[0me\u001b[0m\u001b[0;34m.\u001b[0m\u001b[0mwith_traceback\u001b[0m\u001b[0;34m(\u001b[0m\u001b[0mfiltered_tb\u001b[0m\u001b[0;34m)\u001b[0m \u001b[0;32mfrom\u001b[0m \u001b[0;32mNone\u001b[0m\u001b[0;34m\u001b[0m\u001b[0;34m\u001b[0m\u001b[0m\n\u001b[0m\u001b[1;32m     68\u001b[0m     \u001b[0;32mfinally\u001b[0m\u001b[0;34m:\u001b[0m\u001b[0;34m\u001b[0m\u001b[0;34m\u001b[0m\u001b[0m\n\u001b[1;32m     69\u001b[0m       \u001b[0;32mdel\u001b[0m \u001b[0mfiltered_tb\u001b[0m\u001b[0;34m\u001b[0m\u001b[0;34m\u001b[0m\u001b[0m\n",
            "\u001b[0;32m/usr/local/lib/python3.8/dist-packages/keras/engine/input_spec.py\u001b[0m in \u001b[0;36massert_input_compatibility\u001b[0;34m(input_spec, inputs, layer_name)\u001b[0m\n\u001b[1;32m    212\u001b[0m       \u001b[0mndim\u001b[0m \u001b[0;34m=\u001b[0m \u001b[0mshape\u001b[0m\u001b[0;34m.\u001b[0m\u001b[0mrank\u001b[0m\u001b[0;34m\u001b[0m\u001b[0;34m\u001b[0m\u001b[0m\n\u001b[1;32m    213\u001b[0m       \u001b[0;32mif\u001b[0m \u001b[0mndim\u001b[0m \u001b[0;34m!=\u001b[0m \u001b[0mspec\u001b[0m\u001b[0;34m.\u001b[0m\u001b[0mndim\u001b[0m\u001b[0;34m:\u001b[0m\u001b[0;34m\u001b[0m\u001b[0;34m\u001b[0m\u001b[0m\n\u001b[0;32m--> 214\u001b[0;31m         raise ValueError(f'Input {input_index} of layer \"{layer_name}\" '\n\u001b[0m\u001b[1;32m    215\u001b[0m                          \u001b[0;34m'is incompatible with the layer: '\u001b[0m\u001b[0;34m\u001b[0m\u001b[0;34m\u001b[0m\u001b[0m\n\u001b[1;32m    216\u001b[0m                          \u001b[0;34mf'expected ndim={spec.ndim}, found ndim={ndim}. '\u001b[0m\u001b[0;34m\u001b[0m\u001b[0;34m\u001b[0m\u001b[0m\n",
            "\u001b[0;31mValueError\u001b[0m: Input 0 of layer \"max_pooling2d_32\" is incompatible with the layer: expected ndim=4, found ndim=5. Full shape received: (None, 25, 64, 64, 16)"
          ]
        }
      ]
    },
    {
      "cell_type": "code",
      "source": [],
      "metadata": {
        "id": "6d2TgCJQjQX5"
      },
      "execution_count": null,
      "outputs": []
    }
  ],
  "metadata": {
    "accelerator": "GPU",
    "colab": {
      "provenance": [],
      "mount_file_id": "1c_OqP9zYzi0IFPJNXs9QyIEF_68v98om",
      "authorship_tag": "ABX9TyOX2LhJkilyVPJ9YfT37seF",
      "include_colab_link": true
    },
    "gpuClass": "standard",
    "kernelspec": {
      "display_name": "Python 3",
      "name": "python3"
    },
    "language_info": {
      "name": "python"
    }
  },
  "nbformat": 4,
  "nbformat_minor": 0
}